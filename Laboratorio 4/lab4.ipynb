{
 "cells": [
  {
   "cell_type": "markdown",
   "metadata": {},
   "source": [
    "# Laboratorio #4 – Familias de Malware\n",
    "### Jose Hernandez 20053\n",
    "### Javier Mombiela 20067\n",
    "\n",
    "## Parte 1 \n",
    "### Creacion del dataset"
   ]
  },
  {
   "cell_type": "code",
   "execution_count": 47,
   "metadata": {},
   "outputs": [],
   "source": [
    "# importando librerias\n",
    "import os\n",
    "import pefile\n",
    "import pandas as pd\n",
    "from sklearn.preprocessing import StandardScaler"
   ]
  },
  {
   "cell_type": "code",
   "execution_count": 48,
   "metadata": {},
   "outputs": [
    {
     "name": "stdout",
     "output_type": "stream",
     "text": [
      "Error al analizar '.DS_Store': 'DOS Header magic not found.'\n"
     ]
    }
   ],
   "source": [
    "# ruta del malware\n",
    "malware_dir = './MALWR'\n",
    "malware_data = []\n",
    "\n",
    "# iteramos sobre los archivos de malware\n",
    "for malware in os.listdir(malware_dir):\n",
    "    malwarepath = os.path.join(malware_dir, malware)\n",
    "    \n",
    "    if os.path.isfile(malwarepath):\n",
    "        # analisis con pefile\n",
    "        try:\n",
    "            pe = pefile.PE(malwarepath)\n",
    "\n",
    "            # Si el archivo no es un PE, se ignora\n",
    "            if not pe.is_exe():\n",
    "                continue\n",
    "            \n",
    "            # encontrando las caracteristicas del malware\n",
    "            characteristics = pe.FILE_HEADER.Characteristics\n",
    "            machine = pe.FILE_HEADER.Machine\n",
    "            number_of_sections = pe.FILE_HEADER.NumberOfSections\n",
    "            sections = [section.Name.decode().strip('\\x00') for section in pe.sections]\n",
    "\n",
    "            # funciones\n",
    "            imports = []\n",
    "            if hasattr(pe, 'DIRECTORY_ENTRY_IMPORT'):\n",
    "                for entry in pe.DIRECTORY_ENTRY_IMPORT:\n",
    "                    for imp in entry.imports:\n",
    "                        imports.append(imp.name)\n",
    "\n",
    "            # recursos\n",
    "            resources = []\n",
    "            if hasattr(pe, 'DIRECTORY_ENTRY_RESOURCE'):\n",
    "                for entry in pe.DIRECTORY_ENTRY_RESOURCE.entries:\n",
    "                    resources.append(entry.name)\n",
    "\n",
    "            # firmas digitales\n",
    "            digital_signatures = pe.OPTIONAL_HEADER.DATA_DIRECTORY[pefile.DIRECTORY_ENTRY['IMAGE_DIRECTORY_ENTRY_SECURITY']].Size != 0\n",
    "\n",
    "            # agregamos todas las caracteristicas a la lista de malware\n",
    "            malware_data.append({\n",
    "                'Filename': malware,\n",
    "                \"Machine\": machine,\n",
    "                \"Characteristics\": characteristics,\n",
    "                \"Number_of_sections\": number_of_sections,\n",
    "                \"Sections\": sections,\n",
    "                \"Imports\": imports,\n",
    "                \"Resources\": resources,\n",
    "                \"Digital_signatures\": digital_signatures\n",
    "            })\n",
    "\n",
    "        except Exception as e:\n",
    "            print(f\"Error al analizar '{malware}': {e}\")"
   ]
  },
  {
   "cell_type": "code",
   "execution_count": 49,
   "metadata": {},
   "outputs": [
    {
     "data": {
      "text/html": [
       "<div>\n",
       "<style scoped>\n",
       "    .dataframe tbody tr th:only-of-type {\n",
       "        vertical-align: middle;\n",
       "    }\n",
       "\n",
       "    .dataframe tbody tr th {\n",
       "        vertical-align: top;\n",
       "    }\n",
       "\n",
       "    .dataframe thead th {\n",
       "        text-align: right;\n",
       "    }\n",
       "</style>\n",
       "<table border=\"1\" class=\"dataframe\">\n",
       "  <thead>\n",
       "    <tr style=\"text-align: right;\">\n",
       "      <th></th>\n",
       "      <th>Filename</th>\n",
       "      <th>Machine</th>\n",
       "      <th>Characteristics</th>\n",
       "      <th>Number_of_sections</th>\n",
       "      <th>Sections</th>\n",
       "      <th>Imports</th>\n",
       "      <th>Resources</th>\n",
       "      <th>Digital_signatures</th>\n",
       "    </tr>\n",
       "  </thead>\n",
       "  <tbody>\n",
       "    <tr>\n",
       "      <th>0</th>\n",
       "      <td>785003A405BC7A4EBCBB21DDB757BF3F</td>\n",
       "      <td>332</td>\n",
       "      <td>271</td>\n",
       "      <td>3</td>\n",
       "      <td>[UPX0, UPX1, .rsrc]</td>\n",
       "      <td>[b'LoadLibraryA', b'ExitProcess', b'GetProcAdd...</td>\n",
       "      <td>[None]</td>\n",
       "      <td>False</td>\n",
       "    </tr>\n",
       "    <tr>\n",
       "      <th>1</th>\n",
       "      <td>1F2EB7B090018D975E6D9B40868C94CA</td>\n",
       "      <td>332</td>\n",
       "      <td>271</td>\n",
       "      <td>3</td>\n",
       "      <td>[UPX0, UPX1, .rsrc]</td>\n",
       "      <td>[b'LoadLibraryA', b'ExitProcess', b'GetProcAdd...</td>\n",
       "      <td>[None]</td>\n",
       "      <td>False</td>\n",
       "    </tr>\n",
       "    <tr>\n",
       "      <th>2</th>\n",
       "      <td>FGJKJJ1_2BA0D0083976A5C1E3315413CDCFFCD2</td>\n",
       "      <td>332</td>\n",
       "      <td>271</td>\n",
       "      <td>3</td>\n",
       "      <td>[UPX0, UPX1, .rsrc]</td>\n",
       "      <td>[b'LoadLibraryA', b'ExitProcess', b'GetProcAdd...</td>\n",
       "      <td>[None]</td>\n",
       "      <td>False</td>\n",
       "    </tr>\n",
       "    <tr>\n",
       "      <th>3</th>\n",
       "      <td>RTC_7F85D7F628CE62D1D8F7B39D8940472</td>\n",
       "      <td>332</td>\n",
       "      <td>271</td>\n",
       "      <td>3</td>\n",
       "      <td>[UPX0, UPX1, .rsrc]</td>\n",
       "      <td>[b'LoadLibraryA', b'ExitProcess', b'GetProcAdd...</td>\n",
       "      <td>[None]</td>\n",
       "      <td>False</td>\n",
       "    </tr>\n",
       "    <tr>\n",
       "      <th>4</th>\n",
       "      <td>JH78C0A33A1B472A8C16123FD696A5CE5EBB</td>\n",
       "      <td>332</td>\n",
       "      <td>271</td>\n",
       "      <td>3</td>\n",
       "      <td>[UPX0, UPX1, .rsrc]</td>\n",
       "      <td>[b'LoadLibraryA', b'ExitProcess', b'GetProcAdd...</td>\n",
       "      <td>[None]</td>\n",
       "      <td>False</td>\n",
       "    </tr>\n",
       "  </tbody>\n",
       "</table>\n",
       "</div>"
      ],
      "text/plain": [
       "                                   Filename  Machine  Characteristics  \\\n",
       "0          785003A405BC7A4EBCBB21DDB757BF3F      332              271   \n",
       "1          1F2EB7B090018D975E6D9B40868C94CA      332              271   \n",
       "2  FGJKJJ1_2BA0D0083976A5C1E3315413CDCFFCD2      332              271   \n",
       "3       RTC_7F85D7F628CE62D1D8F7B39D8940472      332              271   \n",
       "4      JH78C0A33A1B472A8C16123FD696A5CE5EBB      332              271   \n",
       "\n",
       "   Number_of_sections             Sections  \\\n",
       "0                   3  [UPX0, UPX1, .rsrc]   \n",
       "1                   3  [UPX0, UPX1, .rsrc]   \n",
       "2                   3  [UPX0, UPX1, .rsrc]   \n",
       "3                   3  [UPX0, UPX1, .rsrc]   \n",
       "4                   3  [UPX0, UPX1, .rsrc]   \n",
       "\n",
       "                                             Imports Resources  \\\n",
       "0  [b'LoadLibraryA', b'ExitProcess', b'GetProcAdd...    [None]   \n",
       "1  [b'LoadLibraryA', b'ExitProcess', b'GetProcAdd...    [None]   \n",
       "2  [b'LoadLibraryA', b'ExitProcess', b'GetProcAdd...    [None]   \n",
       "3  [b'LoadLibraryA', b'ExitProcess', b'GetProcAdd...    [None]   \n",
       "4  [b'LoadLibraryA', b'ExitProcess', b'GetProcAdd...    [None]   \n",
       "\n",
       "   Digital_signatures  \n",
       "0               False  \n",
       "1               False  \n",
       "2               False  \n",
       "3               False  \n",
       "4               False  "
      ]
     },
     "execution_count": 49,
     "metadata": {},
     "output_type": "execute_result"
    }
   ],
   "source": [
    "# creamos un pandas dataset a partir de la lista de malware\n",
    "df = pd.DataFrame(malware_data)\n",
    "df.to_csv(\"malware.csv\", index=False)\n",
    "\n",
    "df.head()"
   ]
  },
  {
   "cell_type": "markdown",
   "metadata": {},
   "source": [
    "### Exploracion y pre procesamiento de datos"
   ]
  },
  {
   "cell_type": "code",
   "execution_count": 50,
   "metadata": {},
   "outputs": [
    {
     "name": "stdout",
     "output_type": "stream",
     "text": [
      "<class 'pandas.core.frame.DataFrame'>\n",
      "RangeIndex: 35 entries, 0 to 34\n",
      "Data columns (total 8 columns):\n",
      " #   Column              Non-Null Count  Dtype \n",
      "---  ------              --------------  ----- \n",
      " 0   Filename            35 non-null     object\n",
      " 1   Machine             35 non-null     int64 \n",
      " 2   Characteristics     35 non-null     int64 \n",
      " 3   Number_of_sections  35 non-null     int64 \n",
      " 4   Sections            35 non-null     object\n",
      " 5   Imports             35 non-null     object\n",
      " 6   Resources           35 non-null     object\n",
      " 7   Digital_signatures  35 non-null     bool  \n",
      "dtypes: bool(1), int64(3), object(4)\n",
      "memory usage: 2.1+ KB\n",
      "None\n"
     ]
    }
   ],
   "source": [
    "print(df.info())"
   ]
  },
  {
   "cell_type": "code",
   "execution_count": 51,
   "metadata": {},
   "outputs": [
    {
     "name": "stdout",
     "output_type": "stream",
     "text": [
      "       Machine  Characteristics  Number_of_sections\n",
      "count     35.0             35.0           35.000000\n",
      "mean     332.0            271.0            3.028571\n",
      "std        0.0              0.0            0.169031\n",
      "min      332.0            271.0            3.000000\n",
      "25%      332.0            271.0            3.000000\n",
      "50%      332.0            271.0            3.000000\n",
      "75%      332.0            271.0            3.000000\n",
      "max      332.0            271.0            4.000000\n"
     ]
    }
   ],
   "source": [
    "print(df.describe())"
   ]
  },
  {
   "cell_type": "code",
   "execution_count": 52,
   "metadata": {},
   "outputs": [
    {
     "name": "stdout",
     "output_type": "stream",
     "text": [
      "Filename              0\n",
      "Machine               0\n",
      "Characteristics       0\n",
      "Number_of_sections    0\n",
      "Sections              0\n",
      "Imports               0\n",
      "Resources             0\n",
      "Digital_signatures    0\n",
      "dtype: int64\n"
     ]
    }
   ],
   "source": [
    "print(df.isnull().sum())"
   ]
  },
  {
   "cell_type": "code",
   "execution_count": 53,
   "metadata": {},
   "outputs": [],
   "source": [
    "# Convierte las listas en strings\n",
    "df['Sections'] = df['Sections'].apply(lambda x: ', '.join(x))\n",
    "df['Imports'] = df['Imports'].apply(lambda x: ', '.join([i.decode('utf-8') for i in x if i is not None]))\n",
    "df['Resources'] = df['Resources'].apply(lambda x: ', '.join([i.decode('utf-8') for i in x if i is not None]))\n",
    "\n",
    "df = pd.get_dummies(df)\n",
    "\n",
    "scaler = StandardScaler()\n",
    "df_normalized = pd.DataFrame(scaler.fit_transform(df), columns=df.columns)"
   ]
  },
  {
   "cell_type": "markdown",
   "metadata": {},
   "source": [
    "## Parte 2 \n",
    "### Implementacion de modelos (K-means y DBSCAN)"
   ]
  },
  {
   "cell_type": "code",
   "execution_count": 54,
   "metadata": {},
   "outputs": [],
   "source": [
    "import numpy as np\n",
    "import matplotlib.pyplot as plt\n",
    "from scipy.spatial.distance import cdist\n",
    "from sklearn.cluster import KMeans\n",
    "from sklearn.metrics import silhouette_score"
   ]
  },
  {
   "cell_type": "code",
   "execution_count": 56,
   "metadata": {},
   "outputs": [],
   "source": [
    "# Definimos el rango de clusters a probar\n",
    "max_clusters = 10\n",
    "\n",
    "# Crea listas para almacenar los errores de cada número de clústeres\n",
    "kmeans_errors = []\n",
    "\n",
    "# Crea listas para almacenar los coeficientes de Silhouette de cada número de clústeres\n",
    "kmeans_silhouettes = []\n",
    "\n",
    "# Prueba diferentes números de clústeres\n",
    "for num_clusters in range(1, max_clusters+1):\n",
    "    # Crea el objeto KMeans\n",
    "    kmeans = KMeans(n_clusters=num_clusters)\n",
    "\n",
    "    # Ajusta el modelo a tus datos\n",
    "    kmeans.fit(df)\n",
    "\n",
    "    # Calcula el error cuadrático medio del modelo\n",
    "    kmeans_errors.append(kmeans.inertia_)\n",
    "\n",
    "    # Calcula el coeficiente de Silhouette del modelo\n",
    "    if num_clusters > 1:  # El coeficiente de Silhouette no está definido para 1 clúster\n",
    "        kmeans_silhouettes.append(silhouette_score(df, kmeans.labels_))"
   ]
  }
 ],
 "metadata": {
  "kernelspec": {
   "display_name": "Python 3",
   "language": "python",
   "name": "python3"
  },
  "language_info": {
   "codemirror_mode": {
    "name": "ipython",
    "version": 3
   },
   "file_extension": ".py",
   "mimetype": "text/x-python",
   "name": "python",
   "nbconvert_exporter": "python",
   "pygments_lexer": "ipython3",
   "version": "3.10.12"
  }
 },
 "nbformat": 4,
 "nbformat_minor": 2
}
