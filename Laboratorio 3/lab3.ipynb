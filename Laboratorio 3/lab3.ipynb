{
 "cells": [
  {
   "cell_type": "markdown",
   "metadata": {},
   "source": [
    "# Laboratorio #3 – Detección de Malware\n",
    "### Jose Hernandez 20053\n",
    "### Javier Mombiela 20067\n",
    "\n",
    "#### Exploración de datos"
   ]
  },
  {
   "cell_type": "code",
   "execution_count": 51,
   "metadata": {},
   "outputs": [],
   "source": [
    "import pandas as pd"
   ]
  },
  {
   "cell_type": "code",
   "execution_count": 52,
   "metadata": {},
   "outputs": [
    {
     "data": {
      "text/html": [
       "<div>\n",
       "<style scoped>\n",
       "    .dataframe tbody tr th:only-of-type {\n",
       "        vertical-align: middle;\n",
       "    }\n",
       "\n",
       "    .dataframe tbody tr th {\n",
       "        vertical-align: top;\n",
       "    }\n",
       "\n",
       "    .dataframe thead th {\n",
       "        text-align: right;\n",
       "    }\n",
       "</style>\n",
       "<table border=\"1\" class=\"dataframe\">\n",
       "  <thead>\n",
       "    <tr style=\"text-align: right;\">\n",
       "      <th></th>\n",
       "      <th>sha256</th>\n",
       "      <th>labels</th>\n",
       "      <th>0</th>\n",
       "      <th>1</th>\n",
       "      <th>2</th>\n",
       "      <th>3</th>\n",
       "      <th>4</th>\n",
       "      <th>5</th>\n",
       "      <th>6</th>\n",
       "      <th>7</th>\n",
       "      <th>...</th>\n",
       "      <th>Unnamed: 167</th>\n",
       "      <th>Unnamed: 168</th>\n",
       "      <th>Unnamed: 169</th>\n",
       "      <th>Unnamed: 170</th>\n",
       "      <th>Unnamed: 171</th>\n",
       "      <th>Unnamed: 172</th>\n",
       "      <th>Unnamed: 173</th>\n",
       "      <th>Unnamed: 174</th>\n",
       "      <th>Unnamed: 175</th>\n",
       "      <th>Unnamed: 176</th>\n",
       "    </tr>\n",
       "  </thead>\n",
       "  <tbody>\n",
       "    <tr>\n",
       "      <th>0</th>\n",
       "      <td>5c18291c481a192ed5003084dab2d8a117fd3736359218...</td>\n",
       "      <td>0</td>\n",
       "      <td>LdrUnloadDll</td>\n",
       "      <td>CoUninitialize</td>\n",
       "      <td>NtQueryKey</td>\n",
       "      <td>NtDuplicateObject</td>\n",
       "      <td>GetShortPathNameW</td>\n",
       "      <td>GetSystemInfo</td>\n",
       "      <td>IsDebuggerPresent</td>\n",
       "      <td>GetSystemWindowsDirectoryW</td>\n",
       "      <td>...</td>\n",
       "      <td>NaN</td>\n",
       "      <td>NaN</td>\n",
       "      <td>NaN</td>\n",
       "      <td>NaN</td>\n",
       "      <td>NaN</td>\n",
       "      <td>NaN</td>\n",
       "      <td>NaN</td>\n",
       "      <td>NaN</td>\n",
       "      <td>NaN</td>\n",
       "      <td>NaN</td>\n",
       "    </tr>\n",
       "    <tr>\n",
       "      <th>1</th>\n",
       "      <td>4683faf3da550ffb594cf5513c4cbb34f64df85f27fd1c...</td>\n",
       "      <td>0</td>\n",
       "      <td>NtOpenMutant</td>\n",
       "      <td>GetForegroundWindow</td>\n",
       "      <td>NtQueryKey</td>\n",
       "      <td>DrawTextExW</td>\n",
       "      <td>NtSetInformationFile</td>\n",
       "      <td>RegQueryValueExA</td>\n",
       "      <td>LdrGetProcedureAddress</td>\n",
       "      <td>CoUninitialize</td>\n",
       "      <td>...</td>\n",
       "      <td>NaN</td>\n",
       "      <td>NaN</td>\n",
       "      <td>NaN</td>\n",
       "      <td>NaN</td>\n",
       "      <td>NaN</td>\n",
       "      <td>NaN</td>\n",
       "      <td>NaN</td>\n",
       "      <td>NaN</td>\n",
       "      <td>NaN</td>\n",
       "      <td>NaN</td>\n",
       "    </tr>\n",
       "    <tr>\n",
       "      <th>2</th>\n",
       "      <td>9a0aea1c7290031d7c3429d0e921f107282cc6eab854ee...</td>\n",
       "      <td>0</td>\n",
       "      <td>GetForegroundWindow</td>\n",
       "      <td>DrawTextExW</td>\n",
       "      <td>GetSystemInfo</td>\n",
       "      <td>IsDebuggerPresent</td>\n",
       "      <td>GetSystemWindowsDirectoryW</td>\n",
       "      <td>NtQueryValueKey</td>\n",
       "      <td>RegCloseKey</td>\n",
       "      <td>GetFileAttributesW</td>\n",
       "      <td>...</td>\n",
       "      <td>NaN</td>\n",
       "      <td>NaN</td>\n",
       "      <td>NaN</td>\n",
       "      <td>NaN</td>\n",
       "      <td>NaN</td>\n",
       "      <td>NaN</td>\n",
       "      <td>NaN</td>\n",
       "      <td>NaN</td>\n",
       "      <td>NaN</td>\n",
       "      <td>NaN</td>\n",
       "    </tr>\n",
       "    <tr>\n",
       "      <th>3</th>\n",
       "      <td>e0f3e4d5f50afd9c31e51dd9941c5a52d57c7c524f5d11...</td>\n",
       "      <td>0</td>\n",
       "      <td>NtQueryValueKey</td>\n",
       "      <td>LdrUnloadDll</td>\n",
       "      <td>GlobalMemoryStatus</td>\n",
       "      <td>WriteConsoleA</td>\n",
       "      <td>NtOpenKey</td>\n",
       "      <td>LdrGetProcedureAddress</td>\n",
       "      <td>NtTerminateProcess</td>\n",
       "      <td>NtClose</td>\n",
       "      <td>...</td>\n",
       "      <td>NaN</td>\n",
       "      <td>NaN</td>\n",
       "      <td>NaN</td>\n",
       "      <td>NaN</td>\n",
       "      <td>NaN</td>\n",
       "      <td>NaN</td>\n",
       "      <td>NaN</td>\n",
       "      <td>NaN</td>\n",
       "      <td>NaN</td>\n",
       "      <td>NaN</td>\n",
       "    </tr>\n",
       "    <tr>\n",
       "      <th>4</th>\n",
       "      <td>ec2b6d29992f13e74015ff0b129150b4afae15c593e4b7...</td>\n",
       "      <td>0</td>\n",
       "      <td>LdrUnloadDll</td>\n",
       "      <td>GetSystemTimeAsFileTime</td>\n",
       "      <td>NtOpenKey</td>\n",
       "      <td>WSAStartup</td>\n",
       "      <td>SetUnhandledExceptionFilter</td>\n",
       "      <td>NtTerminateProcess</td>\n",
       "      <td>NtClose</td>\n",
       "      <td>NtAllocateVirtualMemory</td>\n",
       "      <td>...</td>\n",
       "      <td>NaN</td>\n",
       "      <td>NaN</td>\n",
       "      <td>NaN</td>\n",
       "      <td>NaN</td>\n",
       "      <td>NaN</td>\n",
       "      <td>NaN</td>\n",
       "      <td>NaN</td>\n",
       "      <td>NaN</td>\n",
       "      <td>NaN</td>\n",
       "      <td>NaN</td>\n",
       "    </tr>\n",
       "  </tbody>\n",
       "</table>\n",
       "<p>5 rows × 177 columns</p>\n",
       "</div>"
      ],
      "text/plain": [
       "                                              sha256  labels  \\\n",
       "0  5c18291c481a192ed5003084dab2d8a117fd3736359218...       0   \n",
       "1  4683faf3da550ffb594cf5513c4cbb34f64df85f27fd1c...       0   \n",
       "2  9a0aea1c7290031d7c3429d0e921f107282cc6eab854ee...       0   \n",
       "3  e0f3e4d5f50afd9c31e51dd9941c5a52d57c7c524f5d11...       0   \n",
       "4  ec2b6d29992f13e74015ff0b129150b4afae15c593e4b7...       0   \n",
       "\n",
       "                     0                        1                   2  \\\n",
       "0         LdrUnloadDll           CoUninitialize          NtQueryKey   \n",
       "1         NtOpenMutant      GetForegroundWindow          NtQueryKey   \n",
       "2  GetForegroundWindow              DrawTextExW       GetSystemInfo   \n",
       "3      NtQueryValueKey             LdrUnloadDll  GlobalMemoryStatus   \n",
       "4         LdrUnloadDll  GetSystemTimeAsFileTime           NtOpenKey   \n",
       "\n",
       "                   3                            4                       5  \\\n",
       "0  NtDuplicateObject            GetShortPathNameW           GetSystemInfo   \n",
       "1        DrawTextExW         NtSetInformationFile        RegQueryValueExA   \n",
       "2  IsDebuggerPresent   GetSystemWindowsDirectoryW         NtQueryValueKey   \n",
       "3      WriteConsoleA                    NtOpenKey  LdrGetProcedureAddress   \n",
       "4         WSAStartup  SetUnhandledExceptionFilter      NtTerminateProcess   \n",
       "\n",
       "                        6                           7  ... Unnamed: 167  \\\n",
       "0       IsDebuggerPresent  GetSystemWindowsDirectoryW  ...          NaN   \n",
       "1  LdrGetProcedureAddress              CoUninitialize  ...          NaN   \n",
       "2             RegCloseKey          GetFileAttributesW  ...          NaN   \n",
       "3      NtTerminateProcess                     NtClose  ...          NaN   \n",
       "4                 NtClose     NtAllocateVirtualMemory  ...          NaN   \n",
       "\n",
       "  Unnamed: 168 Unnamed: 169 Unnamed: 170 Unnamed: 171 Unnamed: 172  \\\n",
       "0          NaN          NaN          NaN          NaN          NaN   \n",
       "1          NaN          NaN          NaN          NaN          NaN   \n",
       "2          NaN          NaN          NaN          NaN          NaN   \n",
       "3          NaN          NaN          NaN          NaN          NaN   \n",
       "4          NaN          NaN          NaN          NaN          NaN   \n",
       "\n",
       "  Unnamed: 173 Unnamed: 174 Unnamed: 175 Unnamed: 176  \n",
       "0          NaN          NaN          NaN          NaN  \n",
       "1          NaN          NaN          NaN          NaN  \n",
       "2          NaN          NaN          NaN          NaN  \n",
       "3          NaN          NaN          NaN          NaN  \n",
       "4          NaN          NaN          NaN          NaN  \n",
       "\n",
       "[5 rows x 177 columns]"
      ]
     },
     "execution_count": 52,
     "metadata": {},
     "output_type": "execute_result"
    }
   ],
   "source": [
    "df = pd.read_csv('dataset.csv')\n",
    "\n",
    "df.head()"
   ]
  },
  {
   "cell_type": "code",
   "execution_count": 53,
   "metadata": {},
   "outputs": [
    {
     "name": "stdout",
     "output_type": "stream",
     "text": [
      "<class 'pandas.core.frame.DataFrame'>\n",
      "RangeIndex: 2570 entries, 0 to 2569\n",
      "Columns: 177 entries, sha256 to Unnamed: 176\n",
      "dtypes: int64(1), object(176)\n",
      "memory usage: 3.5+ MB\n",
      "\n",
      "INFO:\n",
      " None\n",
      "\n",
      "labels\n",
      "0    1285\n",
      "1    1285\n",
      "Name: count, dtype: int64\n"
     ]
    }
   ],
   "source": [
    "print(\"\\nINFO:\\n\" , df.info())\n",
    "print()\n",
    "print(df['labels'].value_counts())"
   ]
  },
  {
   "cell_type": "markdown",
   "metadata": {},
   "source": [
    "#### Preprocesamiento de datos e ingenieria de caracteristicas"
   ]
  },
  {
   "cell_type": "code",
   "execution_count": 54,
   "metadata": {},
   "outputs": [
    {
     "data": {
      "text/html": [
       "<div>\n",
       "<style scoped>\n",
       "    .dataframe tbody tr th:only-of-type {\n",
       "        vertical-align: middle;\n",
       "    }\n",
       "\n",
       "    .dataframe tbody tr th {\n",
       "        vertical-align: top;\n",
       "    }\n",
       "\n",
       "    .dataframe thead th {\n",
       "        text-align: right;\n",
       "    }\n",
       "</style>\n",
       "<table border=\"1\" class=\"dataframe\">\n",
       "  <thead>\n",
       "    <tr style=\"text-align: right;\">\n",
       "      <th></th>\n",
       "      <th>sha256</th>\n",
       "      <th>labels</th>\n",
       "      <th>sequence</th>\n",
       "    </tr>\n",
       "  </thead>\n",
       "  <tbody>\n",
       "    <tr>\n",
       "      <th>0</th>\n",
       "      <td>5c18291c481a192ed5003084dab2d8a117fd3736359218...</td>\n",
       "      <td>0</td>\n",
       "      <td>LdrUnloadDll CoUninitialize NtQueryKey NtDupli...</td>\n",
       "    </tr>\n",
       "    <tr>\n",
       "      <th>1</th>\n",
       "      <td>4683faf3da550ffb594cf5513c4cbb34f64df85f27fd1c...</td>\n",
       "      <td>0</td>\n",
       "      <td>NtOpenMutant GetForegroundWindow NtQueryKey Dr...</td>\n",
       "    </tr>\n",
       "    <tr>\n",
       "      <th>2</th>\n",
       "      <td>9a0aea1c7290031d7c3429d0e921f107282cc6eab854ee...</td>\n",
       "      <td>0</td>\n",
       "      <td>GetForegroundWindow DrawTextExW GetSystemInfo ...</td>\n",
       "    </tr>\n",
       "    <tr>\n",
       "      <th>3</th>\n",
       "      <td>e0f3e4d5f50afd9c31e51dd9941c5a52d57c7c524f5d11...</td>\n",
       "      <td>0</td>\n",
       "      <td>NtQueryValueKey LdrUnloadDll GlobalMemoryStatu...</td>\n",
       "    </tr>\n",
       "    <tr>\n",
       "      <th>4</th>\n",
       "      <td>ec2b6d29992f13e74015ff0b129150b4afae15c593e4b7...</td>\n",
       "      <td>0</td>\n",
       "      <td>LdrUnloadDll GetSystemTimeAsFileTime NtOpenKey...</td>\n",
       "    </tr>\n",
       "  </tbody>\n",
       "</table>\n",
       "</div>"
      ],
      "text/plain": [
       "                                              sha256  labels  \\\n",
       "0  5c18291c481a192ed5003084dab2d8a117fd3736359218...       0   \n",
       "1  4683faf3da550ffb594cf5513c4cbb34f64df85f27fd1c...       0   \n",
       "2  9a0aea1c7290031d7c3429d0e921f107282cc6eab854ee...       0   \n",
       "3  e0f3e4d5f50afd9c31e51dd9941c5a52d57c7c524f5d11...       0   \n",
       "4  ec2b6d29992f13e74015ff0b129150b4afae15c593e4b7...       0   \n",
       "\n",
       "                                            sequence  \n",
       "0  LdrUnloadDll CoUninitialize NtQueryKey NtDupli...  \n",
       "1  NtOpenMutant GetForegroundWindow NtQueryKey Dr...  \n",
       "2  GetForegroundWindow DrawTextExW GetSystemInfo ...  \n",
       "3  NtQueryValueKey LdrUnloadDll GlobalMemoryStatu...  \n",
       "4  LdrUnloadDll GetSystemTimeAsFileTime NtOpenKey...  "
      ]
     },
     "execution_count": 54,
     "metadata": {},
     "output_type": "execute_result"
    }
   ],
   "source": [
    "from sklearn.feature_extraction.text import TfidfVectorizer\n",
    "\n",
    "# Concatena las columnas de las secuencias de llamadas a las API en una sola columna\n",
    "df['sequence'] = df[df.columns[2:]].apply(lambda x: ' '.join(x.dropna().astype(str)), axis=1)\n",
    "\n",
    "# Crea un objeto TfidfVectorizer con n-gramas\n",
    "vectorizer = TfidfVectorizer(ngram_range=(1, 2))\n",
    "\n",
    "# Ajusta el vectorizador a las secuencias y transforma las secuencias en vectores de n-gramas\n",
    "X = vectorizer.fit_transform(df['sequence'])\n",
    "\n",
    "# Obtiene las etiquetas\n",
    "y = df['labels']\n",
    "\n",
    "# Elimina las columnas originales de las secuencias de llamadas a las API\n",
    "df = df.drop(df.columns[2:-1], axis=1)\n",
    "\n",
    "# Muestra las primeras filas del conjunto de datos\n",
    "df.head()"
   ]
  },
  {
   "cell_type": "markdown",
   "metadata": {},
   "source": [
    "#### Implementacion de modelos"
   ]
  },
  {
   "cell_type": "code",
   "execution_count": 55,
   "metadata": {},
   "outputs": [],
   "source": [
    "from sklearn.model_selection import train_test_split, cross_val_score\n",
    "from sklearn.metrics import accuracy_score, precision_score, recall_score, roc_auc_score\n",
    "\n",
    "# Divide los datos en conjuntos de entrenamiento y prueba\n",
    "X_train, X_test, y_train, y_test = train_test_split(X, y, test_size=0.3, random_state=42)"
   ]
  },
  {
   "cell_type": "markdown",
   "metadata": {},
   "source": [
    "Arbol de Decision"
   ]
  },
  {
   "cell_type": "code",
   "execution_count": 56,
   "metadata": {},
   "outputs": [
    {
     "name": "stdout",
     "output_type": "stream",
     "text": [
      "Árbol de Decisión - Validación cruzada con K folds para k = 10: 0.9252918287937744\n"
     ]
    }
   ],
   "source": [
    "from sklearn.tree import DecisionTreeClassifier\n",
    "\n",
    "# Crea un clasificador de árbol de decisión\n",
    "dt = DecisionTreeClassifier(random_state=42)\n",
    "dt.fit(X_train, y_train)\n",
    "\n",
    "# Realiza una validación cruzada con K folds para k = 10 en el modelo de Árbol de Decisión\n",
    "dt_cv_scores = cross_val_score(dt, X, y, cv=10)\n",
    "print(f'Árbol de Decisión - Validación cruzada con K folds para k = 10: {dt_cv_scores.mean()}')"
   ]
  },
  {
   "cell_type": "markdown",
   "metadata": {},
   "source": [
    "SVM"
   ]
  },
  {
   "cell_type": "code",
   "execution_count": 57,
   "metadata": {},
   "outputs": [
    {
     "name": "stdout",
     "output_type": "stream",
     "text": [
      "SVM - Validación cruzada con K folds para k = 10: 0.9614785992217898\n"
     ]
    }
   ],
   "source": [
    "from sklearn.svm import SVC\n",
    "\n",
    "# Crea un clasificador de SVM\n",
    "svm = SVC(random_state=42)\n",
    "svm.fit(X_train, y_train)\n",
    "\n",
    "# Realiza una validación cruzada con K folds para k = 10 en el modelo de SVM\n",
    "svm_cv_scores = cross_val_score(svm, X, y, cv=10)\n",
    "print(f'SVM - Validación cruzada con K folds para k = 10: {svm_cv_scores.mean()}')"
   ]
  },
  {
   "cell_type": "markdown",
   "metadata": {},
   "source": [
    "#### Calcular las metricas de cada modelo"
   ]
  },
  {
   "cell_type": "code",
   "execution_count": 59,
   "metadata": {},
   "outputs": [],
   "source": [
    "dt_predictions = dt.predict(X_test)\n",
    "\n",
    "# Calcula las métricas para el modelo de Árbol de Decisión\n",
    "dt_accuracy = accuracy_score(y_test, dt_predictions)\n",
    "dt_precision = precision_score(y_test, dt_predictions)\n",
    "dt_recall = recall_score(y_test, dt_predictions)\n",
    "dt_roc_auc = roc_auc_score(y_test, dt_predictions)\n",
    "\n",
    "svm_predictions = svm.predict(X_test)\n",
    "\n",
    "# Calcula las métricas para el modelo SVM\n",
    "svm_accuracy = accuracy_score(y_test, svm_predictions)\n",
    "svm_precision = precision_score(y_test, svm_predictions)\n",
    "svm_recall = recall_score(y_test, svm_predictions)\n",
    "svm_roc_auc = roc_auc_score(y_test, svm_predictions)"
   ]
  },
  {
   "cell_type": "markdown",
   "metadata": {},
   "source": [
    "Comparacion de metricas"
   ]
  },
  {
   "cell_type": "code",
   "execution_count": 62,
   "metadata": {},
   "outputs": [
    {
     "name": "stdout",
     "output_type": "stream",
     "text": [
      "              Modelo  Accuracy  Precision    Recall   ROC AUC\n",
      "0  Árbol de Decisión  0.931258   0.940104  0.923274  0.931374\n",
      "1                SVM  0.962387   0.994536  0.930946  0.962842\n"
     ]
    }
   ],
   "source": [
    "# Crea un DataFrame para las métricas\n",
    "metrics = pd.DataFrame({\n",
    "    'Modelo': ['Árbol de Decisión', 'SVM'],\n",
    "    'Accuracy': [dt_accuracy, svm_accuracy],\n",
    "    'Precision': [dt_precision, svm_precision],\n",
    "    'Recall': [dt_recall, svm_recall],\n",
    "    'ROC AUC': [dt_roc_auc, svm_roc_auc]\n",
    "})\n",
    "\n",
    "# Imprime el DataFrame\n",
    "print(metrics)"
   ]
  },
  {
   "cell_type": "markdown",
   "metadata": {},
   "source": [
    "#### Métricas de rendimiento de cada modelo\n",
    "\n",
    "**Árbol de Decisión**\n",
    "\n",
    "El modelo de Árbol de Decisión obtuvo las siguientes métricas de rendimiento:\n",
    "\n",
    "- Accuracy (Exactitud): 0.931258. Esto significa que el modelo hizo predicciones correctas (tanto positivas como negativas) en el 93.13% de las muestras.\n",
    "- Precision (Precisión): 0.940104. Esto significa que el 94.01% de las muestras que el modelo predijo como positivas eran realmente positivas.\n",
    "- Recall (Exhaustividad): 0.923274. Esto significa que el modelo identificó correctamente el 92.33% de todas las muestras positivas reales.\n",
    "- ROC AUC (Área bajo la curva ROC): 0.931374. Esto significa que el modelo tiene una capacidad del 93.14% para distinguir entre clases positivas y negativas.\n",
    "\n",
    "**SVM**\n",
    "\n",
    "El modelo SVM obtuvo las siguientes métricas de rendimiento:\n",
    "\n",
    "- Accuracy (Exactitud): 0.962387. Esto significa que el modelo hizo predicciones correctas (tanto positivas como negativas) en el 96.24% de las muestras.\n",
    "- Precision (Precisión): 0.994536. Esto significa que el 99.45% de las muestras que el modelo predijo como positivas eran realmente positivas.\n",
    "- Recall (Exhaustividad): 0.930946. Esto significa que el modelo identificó correctamente el 93.09% de todas las muestras positivas reales.\n",
    "- ROC AUC (Área bajo la curva ROC): 0.962842. Esto significa que el modelo tiene una capacidad del 96.28% para distinguir entre clases positivas y negativas.\n",
    "\n",
    "\n",
    "#### Comparación de los modelos\n",
    "Al comparar las métricas de rendimiento de los dos modelos, el Árbol de Decisión y la Máquina de Vectores de Soporte (SVM), se observa que el modelo SVM supera al Árbol de Decisión en todas las métricas. En particular, el modelo SVM tiene una precisión significativamente más alta, lo que indica que es muy eficaz para predecir correctamente las muestras positivas. Sin embargo, ambos modelos muestran un buen rendimiento en la tarea de clasificación, lo que demuestra su utilidad para este tipo de tareas. A pesar de esto, los resultados obtenidos sugieren que el modelo SVM podría ser una mejor opción para esta tarea específica, dado su rendimiento superior en todas las métricas evaluadas. "
   ]
  }
 ],
 "metadata": {
  "kernelspec": {
   "display_name": "Python 3",
   "language": "python",
   "name": "python3"
  },
  "language_info": {
   "codemirror_mode": {
    "name": "ipython",
    "version": 3
   },
   "file_extension": ".py",
   "mimetype": "text/x-python",
   "name": "python",
   "nbconvert_exporter": "python",
   "pygments_lexer": "ipython3",
   "version": "3.12.1"
  }
 },
 "nbformat": 4,
 "nbformat_minor": 2
}
